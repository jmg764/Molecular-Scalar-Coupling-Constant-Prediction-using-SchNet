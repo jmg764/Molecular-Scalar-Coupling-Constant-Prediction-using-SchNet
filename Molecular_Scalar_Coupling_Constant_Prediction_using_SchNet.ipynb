{
  "nbformat": 4,
  "nbformat_minor": 0,
  "metadata": {
    "accelerator": "GPU",
    "colab": {
      "name": "DL Final Project – Jonathan Glaser.ipynb",
      "provenance": [],
      "collapsed_sections": [],
      "machine_shape": "hm",
      "mount_file_id": "1cDDf0HeT4_BPMRSRILSBKFXDaVFoWlGP",
      "authorship_tag": "ABX9TyO5OXxWs+sO0E/tivBaTsgP",
      "include_colab_link": true
    },
    "kernelspec": {
      "display_name": "Python 3",
      "name": "python3"
    }
  },
  "cells": [
    {
      "cell_type": "markdown",
      "metadata": {
        "id": "view-in-github",
        "colab_type": "text"
      },
      "source": [
        "<a href=\"https://colab.research.google.com/github/jmg764/Molecular-Scalar-Coupling-Constant-Prediction-using-SchNet/blob/main/Molecular_Scalar_Coupling_Constant_Prediction_using_SchNet.ipynb\" target=\"_parent\"><img src=\"https://colab.research.google.com/assets/colab-badge.svg\" alt=\"Open In Colab\"/></a>"
      ]
    },
    {
      "cell_type": "markdown",
      "metadata": {
        "id": "w3V0ise-30C_"
      },
      "source": [
        "# Molecular Scalar Coupling Constant Prediction using SchNet"
      ]
    },
    {
      "cell_type": "code",
      "metadata": {
        "colab": {
          "base_uri": "https://localhost:8080/"
        },
        "id": "O8yM__znr808",
        "outputId": "1e3f5681-c573-4e14-b6d2-4f10a5bf9adb"
      },
      "source": [
        "!pip install chainer-chemistry==0.5.0"
      ],
      "execution_count": null,
      "outputs": [
        {
          "output_type": "stream",
          "text": [
            "Collecting chainer-chemistry==0.5.0\n",
            "\u001b[?25l  Downloading https://files.pythonhosted.org/packages/df/47/99562193229fe60940ef28ef4366d5c16308f76db953350a4ae6f602d32a/chainer-chemistry-0.5.0.tar.gz (77kB)\n",
            "\r\u001b[K     |████▏                           | 10kB 8.8MB/s eta 0:00:01\r\u001b[K     |████████▍                       | 20kB 6.8MB/s eta 0:00:01\r\u001b[K     |████████████▋                   | 30kB 5.3MB/s eta 0:00:01\r\u001b[K     |████████████████▉               | 40kB 3.0MB/s eta 0:00:01\r\u001b[K     |█████████████████████           | 51kB 3.7MB/s eta 0:00:01\r\u001b[K     |█████████████████████████▎      | 61kB 4.2MB/s eta 0:00:01\r\u001b[K     |█████████████████████████████▌  | 71kB 4.4MB/s eta 0:00:01\r\u001b[K     |████████████████████████████████| 81kB 3.4MB/s \n",
            "\u001b[?25hRequirement already satisfied: chainer>=3.0 in /usr/local/lib/python3.6/dist-packages (from chainer-chemistry==0.5.0) (7.4.0)\n",
            "Requirement already satisfied: joblib in /usr/local/lib/python3.6/dist-packages (from chainer-chemistry==0.5.0) (1.0.0)\n",
            "Requirement already satisfied: matplotlib in /usr/local/lib/python3.6/dist-packages (from chainer-chemistry==0.5.0) (3.2.2)\n",
            "Requirement already satisfied: pandas in /usr/local/lib/python3.6/dist-packages (from chainer-chemistry==0.5.0) (1.1.5)\n",
            "Requirement already satisfied: scikit-learn in /usr/local/lib/python3.6/dist-packages (from chainer-chemistry==0.5.0) (0.22.2.post1)\n",
            "Requirement already satisfied: scipy in /usr/local/lib/python3.6/dist-packages (from chainer-chemistry==0.5.0) (1.4.1)\n",
            "Requirement already satisfied: tqdm in /usr/local/lib/python3.6/dist-packages (from chainer-chemistry==0.5.0) (4.41.1)\n",
            "Requirement already satisfied: filelock in /usr/local/lib/python3.6/dist-packages (from chainer>=3.0->chainer-chemistry==0.5.0) (3.0.12)\n",
            "Requirement already satisfied: six>=1.9.0 in /usr/local/lib/python3.6/dist-packages (from chainer>=3.0->chainer-chemistry==0.5.0) (1.15.0)\n",
            "Requirement already satisfied: typing-extensions in /usr/local/lib/python3.6/dist-packages (from chainer>=3.0->chainer-chemistry==0.5.0) (3.7.4.3)\n",
            "Requirement already satisfied: protobuf>=3.0.0 in /usr/local/lib/python3.6/dist-packages (from chainer>=3.0->chainer-chemistry==0.5.0) (3.12.4)\n",
            "Requirement already satisfied: numpy>=1.9.0 in /usr/local/lib/python3.6/dist-packages (from chainer>=3.0->chainer-chemistry==0.5.0) (1.19.4)\n",
            "Requirement already satisfied: setuptools in /usr/local/lib/python3.6/dist-packages (from chainer>=3.0->chainer-chemistry==0.5.0) (51.0.0)\n",
            "Requirement already satisfied: python-dateutil>=2.1 in /usr/local/lib/python3.6/dist-packages (from matplotlib->chainer-chemistry==0.5.0) (2.8.1)\n",
            "Requirement already satisfied: kiwisolver>=1.0.1 in /usr/local/lib/python3.6/dist-packages (from matplotlib->chainer-chemistry==0.5.0) (1.3.1)\n",
            "Requirement already satisfied: cycler>=0.10 in /usr/local/lib/python3.6/dist-packages (from matplotlib->chainer-chemistry==0.5.0) (0.10.0)\n",
            "Requirement already satisfied: pyparsing!=2.0.4,!=2.1.2,!=2.1.6,>=2.0.1 in /usr/local/lib/python3.6/dist-packages (from matplotlib->chainer-chemistry==0.5.0) (2.4.7)\n",
            "Requirement already satisfied: pytz>=2017.2 in /usr/local/lib/python3.6/dist-packages (from pandas->chainer-chemistry==0.5.0) (2018.9)\n",
            "Building wheels for collected packages: chainer-chemistry\n",
            "  Building wheel for chainer-chemistry (setup.py) ... \u001b[?25l\u001b[?25hdone\n",
            "  Created wheel for chainer-chemistry: filename=chainer_chemistry-0.5.0-cp36-none-any.whl size=132520 sha256=3885ff9a869bc118f04d6f24791463ef1eced74c733913f0bd4ba413c06bf019\n",
            "  Stored in directory: /root/.cache/pip/wheels/2e/32/e0/15d059a9218ee5d6306e124aa82b41a63c5fc61885fca277ae\n",
            "Successfully built chainer-chemistry\n",
            "Installing collected packages: chainer-chemistry\n",
            "Successfully installed chainer-chemistry-0.5.0\n"
          ],
          "name": "stdout"
        }
      ]
    },
    {
      "cell_type": "code",
      "metadata": {
        "colab": {
          "base_uri": "https://localhost:8080/"
        },
        "id": "K0VstBjHgVxs",
        "outputId": "fca29950-58a9-49b6-8bcb-a6f213abb11c"
      },
      "source": [
        "import numpy as np\n",
        "import pandas as pd\n",
        "import chainer\n",
        "import chainer_chemistry"
      ],
      "execution_count": null,
      "outputs": [
        {
          "output_type": "stream",
          "text": [
            "/usr/local/lib/python3.6/dist-packages/chainer_chemistry/__init__.py:12: UserWarning: A module chainer_chemistry.datasets was not imported, probably because RDKit is not installed. To install RDKit, please follow instruction in https://github.com/pfnet-research/chainer-chemistry#installation.\n",
            "  UserWarning)\n"
          ],
          "name": "stderr"
        }
      ]
    },
    {
      "cell_type": "code",
      "metadata": {
        "colab": {
          "base_uri": "https://localhost:8080/"
        },
        "id": "XSBgtlDIsKFV",
        "outputId": "b3a605d5-dd11-4740-fc11-6f5ceebbe903"
      },
      "source": [
        "from google.colab import drive\n",
        "drive.mount('/content/drive')"
      ],
      "execution_count": null,
      "outputs": [
        {
          "output_type": "stream",
          "text": [
            "Drive already mounted at /content/drive; to attempt to forcibly remount, call drive.mount(\"/content/drive\", force_remount=True).\n"
          ],
          "name": "stdout"
        }
      ]
    },
    {
      "cell_type": "code",
      "metadata": {
        "id": "RaPBqdzMun9W"
      },
      "source": [
        "structures = pd.read_csv('/content/drive/MyDrive/DL Final Project/champs-scalar-coupling/structures.csv')\n",
        "train = pd.merge(pd.read_csv('/content/drive/MyDrive/DL Final Project/champs-scalar-coupling/train.csv'),\n",
        "                     pd.read_csv('/content/drive/MyDrive/DL Final Project/champs-scalar-coupling/scalar_coupling_contributions.csv'))"
      ],
      "execution_count": null,
      "outputs": []
    },
    {
      "cell_type": "code",
      "metadata": {
        "colab": {
          "base_uri": "https://localhost:8080/",
          "height": 221
        },
        "id": "ocVYT5b6K-H5",
        "outputId": "91181e73-e320-4999-fe92-5d3b2444bf90"
      },
      "source": [
        "train.head()"
      ],
      "execution_count": null,
      "outputs": [
        {
          "output_type": "execute_result",
          "data": {
            "text/html": [
              "<div>\n",
              "<style scoped>\n",
              "    .dataframe tbody tr th:only-of-type {\n",
              "        vertical-align: middle;\n",
              "    }\n",
              "\n",
              "    .dataframe tbody tr th {\n",
              "        vertical-align: top;\n",
              "    }\n",
              "\n",
              "    .dataframe thead th {\n",
              "        text-align: right;\n",
              "    }\n",
              "</style>\n",
              "<table border=\"1\" class=\"dataframe\">\n",
              "  <thead>\n",
              "    <tr style=\"text-align: right;\">\n",
              "      <th></th>\n",
              "      <th>id</th>\n",
              "      <th>molecule_name</th>\n",
              "      <th>atom_index_0</th>\n",
              "      <th>atom_index_1</th>\n",
              "      <th>type</th>\n",
              "      <th>scalar_coupling_constant</th>\n",
              "      <th>fc</th>\n",
              "      <th>sd</th>\n",
              "      <th>pso</th>\n",
              "      <th>dso</th>\n",
              "    </tr>\n",
              "  </thead>\n",
              "  <tbody>\n",
              "    <tr>\n",
              "      <th>0</th>\n",
              "      <td>0</td>\n",
              "      <td>dsgdb9nsd_000001</td>\n",
              "      <td>1</td>\n",
              "      <td>0</td>\n",
              "      <td>1JHC</td>\n",
              "      <td>84.8076</td>\n",
              "      <td>83.0224</td>\n",
              "      <td>0.254579</td>\n",
              "      <td>1.25862</td>\n",
              "      <td>0.272010</td>\n",
              "    </tr>\n",
              "    <tr>\n",
              "      <th>1</th>\n",
              "      <td>1</td>\n",
              "      <td>dsgdb9nsd_000001</td>\n",
              "      <td>1</td>\n",
              "      <td>2</td>\n",
              "      <td>2JHH</td>\n",
              "      <td>-11.2570</td>\n",
              "      <td>-11.0347</td>\n",
              "      <td>0.352978</td>\n",
              "      <td>2.85839</td>\n",
              "      <td>-3.433600</td>\n",
              "    </tr>\n",
              "    <tr>\n",
              "      <th>2</th>\n",
              "      <td>2</td>\n",
              "      <td>dsgdb9nsd_000001</td>\n",
              "      <td>1</td>\n",
              "      <td>3</td>\n",
              "      <td>2JHH</td>\n",
              "      <td>-11.2548</td>\n",
              "      <td>-11.0325</td>\n",
              "      <td>0.352944</td>\n",
              "      <td>2.85852</td>\n",
              "      <td>-3.433870</td>\n",
              "    </tr>\n",
              "    <tr>\n",
              "      <th>3</th>\n",
              "      <td>3</td>\n",
              "      <td>dsgdb9nsd_000001</td>\n",
              "      <td>1</td>\n",
              "      <td>4</td>\n",
              "      <td>2JHH</td>\n",
              "      <td>-11.2543</td>\n",
              "      <td>-11.0319</td>\n",
              "      <td>0.352934</td>\n",
              "      <td>2.85855</td>\n",
              "      <td>-3.433930</td>\n",
              "    </tr>\n",
              "    <tr>\n",
              "      <th>4</th>\n",
              "      <td>4</td>\n",
              "      <td>dsgdb9nsd_000001</td>\n",
              "      <td>2</td>\n",
              "      <td>0</td>\n",
              "      <td>1JHC</td>\n",
              "      <td>84.8074</td>\n",
              "      <td>83.0222</td>\n",
              "      <td>0.254585</td>\n",
              "      <td>1.25861</td>\n",
              "      <td>0.272013</td>\n",
              "    </tr>\n",
              "  </tbody>\n",
              "</table>\n",
              "</div>"
            ],
            "text/plain": [
              "   id     molecule_name  atom_index_0  ...        sd      pso       dso\n",
              "0   0  dsgdb9nsd_000001             1  ...  0.254579  1.25862  0.272010\n",
              "1   1  dsgdb9nsd_000001             1  ...  0.352978  2.85839 -3.433600\n",
              "2   2  dsgdb9nsd_000001             1  ...  0.352944  2.85852 -3.433870\n",
              "3   3  dsgdb9nsd_000001             1  ...  0.352934  2.85855 -3.433930\n",
              "4   4  dsgdb9nsd_000001             2  ...  0.254585  1.25861  0.272013\n",
              "\n",
              "[5 rows x 10 columns]"
            ]
          },
          "metadata": {
            "tags": []
          },
          "execution_count": 5
        }
      ]
    },
    {
      "cell_type": "code",
      "metadata": {
        "colab": {
          "base_uri": "https://localhost:8080/",
          "height": 221
        },
        "id": "tE2PTyNXw3K7",
        "outputId": "53ae8daa-0e35-4eb5-8b6a-a0638be4a024"
      },
      "source": [
        "structures.head()"
      ],
      "execution_count": null,
      "outputs": [
        {
          "output_type": "execute_result",
          "data": {
            "text/html": [
              "<div>\n",
              "<style scoped>\n",
              "    .dataframe tbody tr th:only-of-type {\n",
              "        vertical-align: middle;\n",
              "    }\n",
              "\n",
              "    .dataframe tbody tr th {\n",
              "        vertical-align: top;\n",
              "    }\n",
              "\n",
              "    .dataframe thead th {\n",
              "        text-align: right;\n",
              "    }\n",
              "</style>\n",
              "<table border=\"1\" class=\"dataframe\">\n",
              "  <thead>\n",
              "    <tr style=\"text-align: right;\">\n",
              "      <th></th>\n",
              "      <th>molecule_name</th>\n",
              "      <th>atom_index</th>\n",
              "      <th>atom</th>\n",
              "      <th>x</th>\n",
              "      <th>y</th>\n",
              "      <th>z</th>\n",
              "    </tr>\n",
              "  </thead>\n",
              "  <tbody>\n",
              "    <tr>\n",
              "      <th>0</th>\n",
              "      <td>dsgdb9nsd_000001</td>\n",
              "      <td>0</td>\n",
              "      <td>C</td>\n",
              "      <td>-0.012698</td>\n",
              "      <td>1.085804</td>\n",
              "      <td>0.008001</td>\n",
              "    </tr>\n",
              "    <tr>\n",
              "      <th>1</th>\n",
              "      <td>dsgdb9nsd_000001</td>\n",
              "      <td>1</td>\n",
              "      <td>H</td>\n",
              "      <td>0.002150</td>\n",
              "      <td>-0.006031</td>\n",
              "      <td>0.001976</td>\n",
              "    </tr>\n",
              "    <tr>\n",
              "      <th>2</th>\n",
              "      <td>dsgdb9nsd_000001</td>\n",
              "      <td>2</td>\n",
              "      <td>H</td>\n",
              "      <td>1.011731</td>\n",
              "      <td>1.463751</td>\n",
              "      <td>0.000277</td>\n",
              "    </tr>\n",
              "    <tr>\n",
              "      <th>3</th>\n",
              "      <td>dsgdb9nsd_000001</td>\n",
              "      <td>3</td>\n",
              "      <td>H</td>\n",
              "      <td>-0.540815</td>\n",
              "      <td>1.447527</td>\n",
              "      <td>-0.876644</td>\n",
              "    </tr>\n",
              "    <tr>\n",
              "      <th>4</th>\n",
              "      <td>dsgdb9nsd_000001</td>\n",
              "      <td>4</td>\n",
              "      <td>H</td>\n",
              "      <td>-0.523814</td>\n",
              "      <td>1.437933</td>\n",
              "      <td>0.906397</td>\n",
              "    </tr>\n",
              "  </tbody>\n",
              "</table>\n",
              "</div>"
            ],
            "text/plain": [
              "      molecule_name  atom_index atom         x         y         z\n",
              "0  dsgdb9nsd_000001           0    C -0.012698  1.085804  0.008001\n",
              "1  dsgdb9nsd_000001           1    H  0.002150 -0.006031  0.001976\n",
              "2  dsgdb9nsd_000001           2    H  1.011731  1.463751  0.000277\n",
              "3  dsgdb9nsd_000001           3    H -0.540815  1.447527 -0.876644\n",
              "4  dsgdb9nsd_000001           4    H -0.523814  1.437933  0.906397"
            ]
          },
          "metadata": {
            "tags": []
          },
          "execution_count": 6
        }
      ]
    },
    {
      "cell_type": "markdown",
      "metadata": {
        "id": "qF5epFnJw-jp"
      },
      "source": [
        "For each molecule, ```structures.csv``` lists the cartesian coordinates for each indexed atom"
      ]
    },
    {
      "cell_type": "code",
      "metadata": {
        "colab": {
          "base_uri": "https://localhost:8080/",
          "height": 221
        },
        "id": "JHb6-qjjvNQU",
        "outputId": "bc8bd3da-8c63-4503-9adb-812c29ff6b2c"
      },
      "source": [
        "train.head()"
      ],
      "execution_count": null,
      "outputs": [
        {
          "output_type": "execute_result",
          "data": {
            "text/html": [
              "<div>\n",
              "<style scoped>\n",
              "    .dataframe tbody tr th:only-of-type {\n",
              "        vertical-align: middle;\n",
              "    }\n",
              "\n",
              "    .dataframe tbody tr th {\n",
              "        vertical-align: top;\n",
              "    }\n",
              "\n",
              "    .dataframe thead th {\n",
              "        text-align: right;\n",
              "    }\n",
              "</style>\n",
              "<table border=\"1\" class=\"dataframe\">\n",
              "  <thead>\n",
              "    <tr style=\"text-align: right;\">\n",
              "      <th></th>\n",
              "      <th>id</th>\n",
              "      <th>molecule_name</th>\n",
              "      <th>atom_index_0</th>\n",
              "      <th>atom_index_1</th>\n",
              "      <th>type</th>\n",
              "      <th>scalar_coupling_constant</th>\n",
              "      <th>fc</th>\n",
              "      <th>sd</th>\n",
              "      <th>pso</th>\n",
              "      <th>dso</th>\n",
              "    </tr>\n",
              "  </thead>\n",
              "  <tbody>\n",
              "    <tr>\n",
              "      <th>0</th>\n",
              "      <td>0</td>\n",
              "      <td>dsgdb9nsd_000001</td>\n",
              "      <td>1</td>\n",
              "      <td>0</td>\n",
              "      <td>1JHC</td>\n",
              "      <td>84.8076</td>\n",
              "      <td>83.0224</td>\n",
              "      <td>0.254579</td>\n",
              "      <td>1.25862</td>\n",
              "      <td>0.272010</td>\n",
              "    </tr>\n",
              "    <tr>\n",
              "      <th>1</th>\n",
              "      <td>1</td>\n",
              "      <td>dsgdb9nsd_000001</td>\n",
              "      <td>1</td>\n",
              "      <td>2</td>\n",
              "      <td>2JHH</td>\n",
              "      <td>-11.2570</td>\n",
              "      <td>-11.0347</td>\n",
              "      <td>0.352978</td>\n",
              "      <td>2.85839</td>\n",
              "      <td>-3.433600</td>\n",
              "    </tr>\n",
              "    <tr>\n",
              "      <th>2</th>\n",
              "      <td>2</td>\n",
              "      <td>dsgdb9nsd_000001</td>\n",
              "      <td>1</td>\n",
              "      <td>3</td>\n",
              "      <td>2JHH</td>\n",
              "      <td>-11.2548</td>\n",
              "      <td>-11.0325</td>\n",
              "      <td>0.352944</td>\n",
              "      <td>2.85852</td>\n",
              "      <td>-3.433870</td>\n",
              "    </tr>\n",
              "    <tr>\n",
              "      <th>3</th>\n",
              "      <td>3</td>\n",
              "      <td>dsgdb9nsd_000001</td>\n",
              "      <td>1</td>\n",
              "      <td>4</td>\n",
              "      <td>2JHH</td>\n",
              "      <td>-11.2543</td>\n",
              "      <td>-11.0319</td>\n",
              "      <td>0.352934</td>\n",
              "      <td>2.85855</td>\n",
              "      <td>-3.433930</td>\n",
              "    </tr>\n",
              "    <tr>\n",
              "      <th>4</th>\n",
              "      <td>4</td>\n",
              "      <td>dsgdb9nsd_000001</td>\n",
              "      <td>2</td>\n",
              "      <td>0</td>\n",
              "      <td>1JHC</td>\n",
              "      <td>84.8074</td>\n",
              "      <td>83.0222</td>\n",
              "      <td>0.254585</td>\n",
              "      <td>1.25861</td>\n",
              "      <td>0.272013</td>\n",
              "    </tr>\n",
              "  </tbody>\n",
              "</table>\n",
              "</div>"
            ],
            "text/plain": [
              "   id     molecule_name  atom_index_0  ...        sd      pso       dso\n",
              "0   0  dsgdb9nsd_000001             1  ...  0.254579  1.25862  0.272010\n",
              "1   1  dsgdb9nsd_000001             1  ...  0.352978  2.85839 -3.433600\n",
              "2   2  dsgdb9nsd_000001             1  ...  0.352944  2.85852 -3.433870\n",
              "3   3  dsgdb9nsd_000001             1  ...  0.352934  2.85855 -3.433930\n",
              "4   4  dsgdb9nsd_000001             2  ...  0.254585  1.25861  0.272013\n",
              "\n",
              "[5 rows x 10 columns]"
            ]
          },
          "metadata": {
            "tags": []
          },
          "execution_count": 7
        }
      ]
    },
    {
      "cell_type": "markdown",
      "metadata": {
        "id": "ngTalpn_vl91"
      },
      "source": [
        "The ```train.csv``` file contains: \n",
        "\n",
        "\n",
        "1.   ```molecule_name```: an id for the molecule under consideration\n",
        "2.   ```atom_index_0``` and ```atom_index_1```: indices of the atom pairs which create a particular coupling\n",
        "3.  ```type```: indicates the type of coupling interaction \n",
        "4.  ```scalar_coupling_constant```: our target variable\n",
        "\n",
        "\n"
      ]
    },
    {
      "cell_type": "code",
      "metadata": {
        "colab": {
          "base_uri": "https://localhost:8080/"
        },
        "id": "invThz-IxEAO",
        "outputId": "d9c04acb-d717-424c-e237-86cfa8b89243"
      },
      "source": [
        "print(f'Size of structures.csv: {structures.shape[0]} rows and {structures.shape[1]} columns')\n",
        "print(f'Size of train.csv: {train.shape[0]} rows and {train.shape[1]} columns')\n",
        "print('')\n",
        "print(f'Number of distinct molecules in train.csv: {train.molecule_name.nunique()}')\n",
        "print(f'List of unique atoms: {structures.atom.unique()}')\n",
        "\n"
      ],
      "execution_count": null,
      "outputs": [
        {
          "output_type": "stream",
          "text": [
            "Size of structures.csv: 2358875 rows and 6 columns\n",
            "Size of train.csv: 4659076 rows and 10 columns\n",
            "\n",
            "Number of distinct molecules in train.csv: 85012\n",
            "List of unique atoms: ['C' 'H' 'N' 'O' 'F']\n"
          ],
          "name": "stdout"
        }
      ]
    },
    {
      "cell_type": "code",
      "metadata": {
        "id": "cCw0I3-gAheQ"
      },
      "source": [
        "# Create validation and test set from provided train set\n",
        "import random \n",
        "\n",
        "train_molecule_counts = train['molecule_name'].value_counts()\n",
        "train_molecules = list(train_molecule_counts.index)\n",
        "\n",
        "random.shuffle(train_molecules)\n",
        "\n",
        "num_train = int(len(train_molecules) * 0.8)\n",
        "test_valid_split = int(num_train + (int(len(train_molecules) - num_train))/2)\n",
        "\n",
        "test_molecules = sorted(train_molecules[test_valid_split:])\n",
        "valid_molecules = sorted(train_molecules[num_train:test_valid_split])\n",
        "train_molecules = sorted(train_molecules[:num_train])"
      ],
      "execution_count": null,
      "outputs": []
    },
    {
      "cell_type": "code",
      "metadata": {
        "colab": {
          "base_uri": "https://localhost:8080/"
        },
        "id": "WlcEY-CKHmTy",
        "outputId": "419ba326-f8b6-4c37-deea-b116300b0559"
      },
      "source": [
        "new_train = train.query('molecule_name in @train_molecules')\n",
        "new_valid = train.query('molecule_name in @valid_molecules')\n",
        "new_test = train.query('molecule_name in @test_molecules')\n",
        "\n",
        "new_train.sort_values('molecule_name', inplace=True)\n",
        "new_valid.sort_values('molecule_name', inplace=True)\n",
        "new_test.sort_values('molecule_name', inplace=True)\n",
        "\n",
        "train_gp = new_train.groupby('molecule_name')\n",
        "valid_gp = new_valid.groupby('molecule_name')\n",
        "test_gp = new_test.groupby('molecule_name')\n",
        "structures_groups = structures.groupby('molecule_name')\n",
        "\n",
        "list_atoms = list(set(structures['atom']))"
      ],
      "execution_count": null,
      "outputs": [
        {
          "output_type": "stream",
          "text": [
            "/usr/local/lib/python3.6/dist-packages/ipykernel_launcher.py:5: SettingWithCopyWarning: \n",
            "A value is trying to be set on a copy of a slice from a DataFrame\n",
            "\n",
            "See the caveats in the documentation: https://pandas.pydata.org/pandas-docs/stable/user_guide/indexing.html#returning-a-view-versus-a-copy\n",
            "  \"\"\"\n",
            "/usr/local/lib/python3.6/dist-packages/ipykernel_launcher.py:6: SettingWithCopyWarning: \n",
            "A value is trying to be set on a copy of a slice from a DataFrame\n",
            "\n",
            "See the caveats in the documentation: https://pandas.pydata.org/pandas-docs/stable/user_guide/indexing.html#returning-a-view-versus-a-copy\n",
            "  \n",
            "/usr/local/lib/python3.6/dist-packages/ipykernel_launcher.py:7: SettingWithCopyWarning: \n",
            "A value is trying to be set on a copy of a slice from a DataFrame\n",
            "\n",
            "See the caveats in the documentation: https://pandas.pydata.org/pandas-docs/stable/user_guide/indexing.html#returning-a-view-versus-a-copy\n",
            "  import sys\n"
          ],
          "name": "stderr"
        }
      ]
    },
    {
      "cell_type": "code",
      "metadata": {
        "id": "kbXT7JpjDM_B"
      },
      "source": [
        "from scipy.spatial import distance\n",
        "\n",
        "class Graph:\n",
        "\n",
        "    def __init__(self, points_df, list_atoms):\n",
        "\n",
        "        self.points = points_df[['x', 'y', 'z']].values\n",
        "\n",
        "        self._dists = distance.cdist(self.points, self.points)\n",
        "\n",
        "        self.adj = self._dists < 1.5\n",
        "        self.num_nodes = len(points_df)\n",
        "\n",
        "        self.atoms = points_df['atom']\n",
        "        dict_atoms = {at: i for i, at in enumerate(list_atoms)}\n",
        "\n",
        "        atom_index = [dict_atoms[atom] for atom in self.atoms]\n",
        "        one_hot = np.identity(len(dict_atoms))[atom_index]\n",
        "\n",
        "        bond = np.sum(self.adj, 1) - 1\n",
        "        bonds = np.identity(len(dict_atoms))[bond - 1]\n",
        "\n",
        "        self._array = np.concatenate([one_hot, bonds], axis=1).astype(np.float32)\n",
        "\n",
        "    @property\n",
        "    def input_array(self):\n",
        "        return self._array\n",
        "\n",
        "    @property\n",
        "    def dists(self):\n",
        "        return self._dists.astype(np.float32)"
      ],
      "execution_count": null,
      "outputs": []
    },
    {
      "cell_type": "code",
      "metadata": {
        "id": "95VD2ZoADNvt"
      },
      "source": [
        "def create_graph(atoms, molecule_names, dataset, coordinates):\n",
        "  graphs = list()\n",
        "  targets = list()\n",
        "  print('preprocessing molecules ...')\n",
        "  for molecule in molecule_names:\n",
        "      graphs.append(Graph(coordinates.get_group(molecule), atoms))\n",
        "      targets.append(dataset.get_group(molecule))\n",
        "\n",
        "  return graphs, targets\n",
        "\n"
      ],
      "execution_count": null,
      "outputs": []
    },
    {
      "cell_type": "code",
      "metadata": {
        "colab": {
          "base_uri": "https://localhost:8080/"
        },
        "id": "mzKvP2-yl_4Q",
        "outputId": "f21bbcde-bcbb-4a45-d0f4-23cafb24db7e"
      },
      "source": [
        "len(train_molecules), len(train_gp), len(valid_molecules), len(valid_gp), len(test_molecules), len(test_gp)"
      ],
      "execution_count": null,
      "outputs": [
        {
          "output_type": "execute_result",
          "data": {
            "text/plain": [
              "(68009, 68009, 8501, 8501, 8502, 8502)"
            ]
          },
          "metadata": {
            "tags": []
          },
          "execution_count": 13
        }
      ]
    },
    {
      "cell_type": "code",
      "metadata": {
        "colab": {
          "base_uri": "https://localhost:8080/"
        },
        "id": "9d4OKy1tJe63",
        "outputId": "1637d2d6-34f6-48d7-ce52-8f8d087bbaf3"
      },
      "source": [
        "train_graphs, train_targets = create_graph(list_atoms, train_molecules, train_gp, structures_groups)\n",
        "valid_graphs, valid_targets = create_graph(list_atoms, valid_molecules, valid_gp, structures_groups)\n",
        "test_graphs, test_targets = create_graph(list_atoms, test_molecules, test_gp, structures_groups)\n",
        "\n"
      ],
      "execution_count": null,
      "outputs": [
        {
          "output_type": "stream",
          "text": [
            "preprocessing molecules ...\n",
            "preprocessing molecules ...\n",
            "preprocessing molecules ...\n"
          ],
          "name": "stdout"
        }
      ]
    },
    {
      "cell_type": "markdown",
      "metadata": {
        "id": "UBpCW_zexkDq"
      },
      "source": [
        "### Convert into chainer's dataset"
      ]
    },
    {
      "cell_type": "code",
      "metadata": {
        "id": "YlEHiJjExjEv"
      },
      "source": [
        "from chainer.datasets.dict_dataset import DictDataset\n",
        "\n",
        "train_dataset = DictDataset(graphs=train_graphs, targets=train_targets)\n",
        "valid_dataset = DictDataset(graphs=valid_graphs, targets=valid_targets)\n",
        "test_dataset = DictDataset(graphs=test_graphs, targets=test_targets)"
      ],
      "execution_count": null,
      "outputs": []
    },
    {
      "cell_type": "markdown",
      "metadata": {
        "id": "8DT9cnpkoTZ7"
      },
      "source": [
        "## Build SchNet Model"
      ]
    },
    {
      "cell_type": "code",
      "metadata": {
        "id": "GNil0CJVGMVk"
      },
      "source": [
        "from chainer import reporter\n",
        "from chainer import functions as F\n",
        "from chainer import links as L\n",
        "from chainer_chemistry.links import SchNetUpdate\n",
        "from chainer_chemistry.links import GraphLinear, GraphBatchNormalization\n",
        "from chainer_chemistry.links.update.schnet_update import CFConv\n",
        "\n",
        "class SchNetUpdateBN(SchNetUpdate):\n",
        "\n",
        "    def __init__(self, *args, num_rbf, radius_resolution, gamma, **kwargs):\n",
        "        super(SchNetUpdateBN, self).__init__(*args, **kwargs)\n",
        "        self.num_rbf = num_rbf\n",
        "        self.radius_resolution = radius_resolution\n",
        "        self.gamma = gamma\n",
        "        with self.init_scope():\n",
        "            self.cfconv2 = CFConv(num_rbf=self.num_rbf, radius_resolution=self.radius_resolution, gamma=self.gamma, hidden_dim=512)\n",
        "            self.bn = GraphBatchNormalization(args[0])\n",
        "\n",
        "    def __call__(self, h, adj, **kwargs):\n",
        "        v = self.linear[0](h)\n",
        "        v = self.cfconv2(v, adj)\n",
        "        v = self.linear[1](v)\n",
        "        v = F.softplus(v)\n",
        "        v = self.linear[2](v)\n",
        "        return h + self.bn(v)\n",
        "\n",
        "class SchNet(chainer.Chain):\n",
        "\n",
        "    def __init__(self, num_layer=3, num_rbf=300, radius_resolution=0.1, gamma=10.0):\n",
        "        super(SchNet, self).__init__()\n",
        "\n",
        "        self.num_layer = num_layer\n",
        "        self.num_rbf = num_rbf\n",
        "        self.radius_resolution = radius_resolution\n",
        "        self.gamma = gamma\n",
        "\n",
        "        with self.init_scope():\n",
        "            self.gn = GraphLinear(512)\n",
        "            for l in range(self.num_layer):\n",
        "                self.add_link('sch{}'.format(l), SchNetUpdateBN(512, num_rbf=self.num_rbf, radius_resolution=self.radius_resolution, gamma=self.gamma))\n",
        "\n",
        "            self.interaction1 = L.Linear(128)\n",
        "            self.interaction2 = L.Linear(128)\n",
        "            self.interaction3 = L.Linear(4)\n",
        "\n",
        "    def __call__(self, input_array, dists, pairs_index, targets):\n",
        "\n",
        "        out = self.predict(input_array, dists, pairs_index)\n",
        "        loss = F.mean_absolute_error(out, targets)\n",
        "        reporter.report({'loss': loss}, self)\n",
        "        return loss\n",
        "\n",
        "    def predict(self, input_array, dists, pairs_index, **kwargs):\n",
        "\n",
        "        h = self.gn(input_array)\n",
        "\n",
        "        for l in range(self.num_layer):\n",
        "            h = self['sch{}'.format(l)](h, dists)\n",
        "\n",
        "        h = F.concat((h, input_array), axis=2)\n",
        "\n",
        "        concat = F.concat([\n",
        "            h[pairs_index[:, 0], pairs_index[:, 1], :],\n",
        "            h[pairs_index[:, 0], pairs_index[:, 2], :],\n",
        "            F.expand_dims(dists[pairs_index[:, 0],\n",
        "                                pairs_index[:, 1],\n",
        "                                pairs_index[:, 2]], 1)\n",
        "        ], axis=1)\n",
        "\n",
        "        h1 = F.leaky_relu(self.interaction1(concat))\n",
        "        h2 = F.leaky_relu(self.interaction2(h1))\n",
        "        out = self.interaction3(h2)\n",
        "\n",
        "        return out\n"
      ],
      "execution_count": null,
      "outputs": []
    },
    {
      "cell_type": "markdown",
      "metadata": {
        "id": "954BRyYZomOX"
      },
      "source": [
        "## SchNet Training Preparation"
      ]
    },
    {
      "cell_type": "markdown",
      "metadata": {
        "id": "-CL5As0Yo952"
      },
      "source": [
        "### Define Sampler"
      ]
    },
    {
      "cell_type": "code",
      "metadata": {
        "id": "NSirSnZhohjJ"
      },
      "source": [
        "from chainer.iterators import OrderSampler\n",
        "\n",
        "class SameSizeSampler(OrderSampler):\n",
        "\n",
        "    def __init__(self, structures_groups, moles, batch_size,\n",
        "                 random_state=None, use_remainder=False):\n",
        "\n",
        "        self.structures_groups = structures_groups\n",
        "        self.moles = moles\n",
        "        self.batch_size = batch_size\n",
        "        if random_state is None:\n",
        "            random_state = np.random.random.__self__\n",
        "        self._random = random_state\n",
        "        self.use_remainder = use_remainder\n",
        "\n",
        "    def __call__(self, current_order, current_position):\n",
        "\n",
        "        batches = list()\n",
        "\n",
        "        atom_counts = pd.DataFrame()\n",
        "        atom_counts['mol_index'] = np.arange(len(self.moles))\n",
        "        atom_counts['molecular_name'] = self.moles\n",
        "        atom_counts['num_atom'] = [len(self.structures_groups.get_group(mol))\n",
        "                                   for mol in self.moles]\n",
        "\n",
        "        num_atom_counts = atom_counts['num_atom'].value_counts()\n",
        "\n",
        "        for count, num_mol in num_atom_counts.to_dict().items():\n",
        "            if self.use_remainder:\n",
        "                num_batch_for_this = -(-num_mol // self.batch_size)\n",
        "            else:\n",
        "                num_batch_for_this = num_mol // self.batch_size\n",
        "\n",
        "            target_mols = atom_counts.query('num_atom==@count')['mol_index'].values\n",
        "            random.shuffle(target_mols)\n",
        "\n",
        "            devider = np.arange(0, len(target_mols), self.batch_size)\n",
        "            devider = np.append(devider, 99999)\n",
        "\n",
        "            if self.use_remainder:\n",
        "                target_mols = np.append(\n",
        "                    target_mols,\n",
        "                    np.repeat(target_mols[-1], -len(target_mols) % self.batch_size))\n",
        "\n",
        "            for b in range(num_batch_for_this):\n",
        "                batches.append(target_mols[devider[b]:devider[b + 1]])\n",
        "\n",
        "        random.shuffle(batches)\n",
        "        batches = np.concatenate(batches).astype(np.int32)\n",
        "\n",
        "        return batches"
      ],
      "execution_count": null,
      "outputs": []
    },
    {
      "cell_type": "markdown",
      "metadata": {
        "id": "_sCjnlY1pvJ5"
      },
      "source": [
        "### Define Updater"
      ]
    },
    {
      "cell_type": "code",
      "metadata": {
        "id": "hOtsyOJspwiu"
      },
      "source": [
        "from chainer import training\n",
        "from chainer.dataset import to_device\n",
        "\n",
        "def coupling_converter(batch, device):\n",
        "\n",
        "    list_array = list()\n",
        "    list_dists = list()\n",
        "    list_targets = list()\n",
        "    list_pairs_index = list()\n",
        "\n",
        "    with_target = 'fc' in batch[0]['targets'].columns\n",
        "\n",
        "    for i, d in enumerate(batch):\n",
        "        list_array.append(d['graphs'].input_array)\n",
        "        list_dists.append(d['graphs'].dists)\n",
        "        if with_target:\n",
        "            list_targets.append(\n",
        "                d['targets'][['fc', 'sd', 'pso', 'dso']].values.astype(np.float32))\n",
        "\n",
        "        sample_index = np.full((len(d['targets']), 1), i)\n",
        "        atom_index = d['targets'][['atom_index_0', 'atom_index_1']].values\n",
        "\n",
        "        list_pairs_index.append(np.concatenate([sample_index, atom_index], axis=1))\n",
        "\n",
        "    input_array = to_device(device, np.stack(list_array))\n",
        "    dists = to_device(device, np.stack(list_dists))\n",
        "    pairs_index = np.concatenate(list_pairs_index)\n",
        "\n",
        "    array = {'input_array': input_array, 'dists': dists, 'pairs_index': pairs_index}\n",
        "\n",
        "    if with_target:\n",
        "      array['targets'] = to_device(device, np.concatenate(list_targets))\n",
        "\n",
        "    return array"
      ],
      "execution_count": null,
      "outputs": []
    },
    {
      "cell_type": "markdown",
      "metadata": {
        "id": "rEw4kwHLs8bU"
      },
      "source": [
        "### Define Evaluator"
      ]
    },
    {
      "cell_type": "code",
      "metadata": {
        "id": "HS9hdw2qsxlj"
      },
      "source": [
        "from chainer.training.extensions import Evaluator\n",
        "from chainer import cuda\n",
        "import os.path\n",
        "from os import path\n",
        "\n",
        "class TypeWiseEvaluator(Evaluator):\n",
        "\n",
        "    def __init__(self, iterator, target, converter, device, name, lr, bs,\n",
        "                 is_validate=False, is_submit=False):\n",
        "\n",
        "        super(TypeWiseEvaluator, self).__init__(\n",
        "            iterator, target, converter=converter, device=device)\n",
        "\n",
        "        self.is_validate = is_validate\n",
        "        self.is_submit = is_submit\n",
        "        self.name = name\n",
        "        self.lr = lr\n",
        "        self.bs = bs\n",
        "\n",
        "    def calc_score(self, df_truth, pred):\n",
        "\n",
        "        target_types = list(set(df_truth['type']))\n",
        "\n",
        "        diff = df_truth['scalar_coupling_constant'] - pred\n",
        "\n",
        "        scores = 0\n",
        "        metrics = {}\n",
        "\n",
        "        for target_type in target_types:\n",
        "\n",
        "            target_pair = df_truth['type'] == target_type\n",
        "            score_exp = np.mean(np.abs(diff[target_pair]))\n",
        "            scores += np.log(score_exp)\n",
        "\n",
        "            metrics[target_type] = scores\n",
        "\n",
        "        metrics['ALL_LogMAE'] = scores / len(target_types)\n",
        "\n",
        "        observation = {}\n",
        "        with reporter.report_scope(observation):\n",
        "            reporter.report(metrics, self._targets['main'])\n",
        "\n",
        "        return observation\n",
        "\n",
        "    def evaluate(self):\n",
        "        iterator = self._iterators['main']\n",
        "        eval_func = self._targets['main']\n",
        "\n",
        "        iterator.reset()\n",
        "        it = iterator\n",
        "\n",
        "        y_total = []\n",
        "        t_total = []\n",
        "\n",
        "        for batch in it:\n",
        "            in_arrays = self.converter(batch, self.device)\n",
        "            with chainer.no_backprop_mode(), chainer.using_config('train', False):\n",
        "                y = eval_func.predict(**in_arrays)\n",
        "\n",
        "            y_data = cuda.to_cpu(y.data)\n",
        "            y_total.append(y_data)\n",
        "            t_total.extend([d['targets'] for d in batch])\n",
        "\n",
        "        df_truth = pd.concat(t_total, axis=0)\n",
        "        y_pred = np.sum(np.concatenate(y_total), axis=1)\n",
        "\n",
        "        if self.is_submit:\n",
        "          results = self.calc_score(df_truth, y_pred)\n",
        "          if path.exists('test_results.csv'):\n",
        "            test_results = pd.read_csv('test_results.csv')\n",
        "            test_results.loc[len(test_results)] = [lr, results['test/main/ALL_LogMAE']]\n",
        "            test_results.to_csv('test_results.csv', index=False)\n",
        "          else:\n",
        "            test_results = pd.DataFrame()\n",
        "            test_results['learning rate'] = [lr]\n",
        "            # test_results['batch size'] = [bs]\n",
        "            test_results['All_LogMAE'] = [results['test/main/ALL_LogMAE']]\n",
        "            test_results.to_csv('test_results.csv', index=False)\n",
        "\n",
        "          submit = pd.DataFrame()\n",
        "          submit['id'] = df_truth['id']\n",
        "          submit['predicted_scc'] = y_pred\n",
        "          submit['true_scc'] = df_truth['scalar_coupling_constant']\n",
        "          submit.drop_duplicates(subset='id', inplace=True)\n",
        "          submit.sort_values('id', inplace=True)\n",
        "          submit.to_csv('kernel_schnet.csv', index=False)\n",
        "\n",
        "        if self.is_validate:\n",
        "          return self.calc_score(df_truth, y_pred)\n",
        "            \n",
        "            \n",
        "\n",
        "\n",
        "        return {}\n"
      ],
      "execution_count": null,
      "outputs": []
    },
    {
      "cell_type": "markdown",
      "metadata": {
        "id": "pM0UcVtfs_BC"
      },
      "source": [
        "### Other Extensions"
      ]
    },
    {
      "cell_type": "code",
      "metadata": {
        "id": "SEUfp7kAtKS1"
      },
      "source": [
        "def other_extensions(trainer):\n",
        "  # Learning rate scheduler \n",
        "  trainer.extend(training.extensions.ExponentialShift('alpha', 0.99999))\n",
        "\n",
        "  # Extension which turns off normalization after the second epoch\n",
        "  from chainer.training import make_extension\n",
        "\n",
        "  def stop_train_mode(trigger):\n",
        "      @make_extension(trigger=trigger)\n",
        "      def _stop_train_mode(_):\n",
        "          chainer.config.train = False\n",
        "      return _stop_train_mode\n",
        "\n",
        "  trainer.extend(stop_train_mode(trigger=(1, 'epoch')))\n",
        "\n",
        "  trainer.extend(\n",
        "      training.extensions.observe_value(\n",
        "          'alpha', lambda tr: tr.updater.get_optimizer('main').alpha))\n",
        "\n",
        "\n",
        "  # Report metrics\n",
        "  trainer.extend(training.extensions.LogReport())\n",
        "  # trainer.extend(training.extensions.ProgressBar())\n",
        "  trainer.extend(training.extensions.PrintReport(\n",
        "      ['epoch', 'elapsed_time', 'main/loss', 'valid/main/ALL_LogMAE', 'alpha']))\n"
      ],
      "execution_count": null,
      "outputs": []
    },
    {
      "cell_type": "markdown",
      "metadata": {
        "id": "-qAs6tkZX7B2"
      },
      "source": [
        "## Hyperparameter Tuning"
      ]
    },
    {
      "cell_type": "code",
      "metadata": {
        "id": "oI-ebunVW0AG"
      },
      "source": [
        "from chainer import optimizers\n",
        "\n",
        "def run_model(learning_rate, num_layer=3, num_rbf=300, radius_resolution=0.1, gamma=10.0):\n",
        "  model = SchNet(num_layer, num_rbf, radius_resolution, gamma)\n",
        "  model.to_gpu(device=0)\n",
        "  \n",
        "  batch_size = 4\n",
        "  train_sampler = SameSizeSampler(structures_groups, train_molecules, batch_size)\n",
        "  valid_sampler = SameSizeSampler(structures_groups, valid_molecules, batch_size,\n",
        "                                  use_remainder=True)\n",
        "  test_sampler = SameSizeSampler(structures_groups, test_molecules, batch_size,\n",
        "                                use_remainder=True)\n",
        "  \n",
        "  train_iter = chainer.iterators.SerialIterator(\n",
        "    train_dataset, batch_size, order_sampler=train_sampler)\n",
        "\n",
        "  valid_iter = chainer.iterators.SerialIterator(\n",
        "      valid_dataset, batch_size, repeat=False, order_sampler=valid_sampler)\n",
        "\n",
        "  test_iter = chainer.iterators.SerialIterator(\n",
        "      test_dataset, batch_size, repeat=False, order_sampler=test_sampler)\n",
        "\n",
        "  optimizer = optimizers.Adam(alpha=learning_rate)\n",
        "  optimizer.setup(model)\n",
        "  updater = training.StandardUpdater(train_iter, optimizer,\n",
        "                                    converter=coupling_converter, device=0)\n",
        "  trainer = training.Trainer(updater, (25, 'epoch'), out=\"result\")\n",
        "\n",
        "  trainer.extend(\n",
        "      TypeWiseEvaluator(iterator=valid_iter, target=model, converter=coupling_converter, \n",
        "                        name='valid', device=0, lr=learning_rate, bs=batch_size, is_validate=True))\n",
        "  trainer.extend(\n",
        "      TypeWiseEvaluator(iterator=test_iter, target=model, converter=coupling_converter,\n",
        "                        name='test', device=0, lr=learning_rate, bs=batch_size, is_submit=True))\n",
        "\n",
        "  other_extensions(trainer)\n",
        "\n",
        "  chainer.config.train = True\n",
        "  trainer.run()"
      ],
      "execution_count": null,
      "outputs": []
    },
    {
      "cell_type": "markdown",
      "metadata": {
        "id": "6BB7TmkNDq6y"
      },
      "source": [
        "### Varied learning rate "
      ]
    },
    {
      "cell_type": "code",
      "metadata": {
        "id": "ZEqBEWCdnWD_"
      },
      "source": [
        "learning_rates = [1e-3, 5e-3, 1e-2]\n",
        "\n",
        "for lr in learning_rates:\n",
        "  run_model(lr)"
      ],
      "execution_count": null,
      "outputs": []
    },
    {
      "cell_type": "markdown",
      "metadata": {
        "id": "HAD_r_3-D2CW"
      },
      "source": [
        "### Varied radius resolution"
      ]
    },
    {
      "cell_type": "code",
      "metadata": {
        "id": "awjUKLt-nzFN"
      },
      "source": [
        "radius_resolutions = [0.05, 0.075, 0.125, 0.15]\n",
        "\n",
        "for rr in radius_resolutions:\n",
        "  run_model(lr=5e-3, radius_resolution=rr)"
      ],
      "execution_count": null,
      "outputs": []
    }
  ]
}